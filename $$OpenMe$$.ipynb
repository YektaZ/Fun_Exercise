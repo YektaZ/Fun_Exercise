{
 "cells": [
  {
   "cell_type": "markdown",
   "metadata": {},
   "source": [
    "## Pickle Excercise\n",
    "\n",
    "$Author: Fatemeh Zahed$\n",
    "\n",
    "$Date: October 2019$"
   ]
  },
  {
   "cell_type": "code",
   "execution_count": 1,
   "metadata": {},
   "outputs": [],
   "source": [
    "import number_to_words as NtoW\n",
    "import words_to_numbers as WtoN\n",
    "import all_wordifications as AW"
   ]
  },
  {
   "cell_type": "code",
   "execution_count": 2,
   "metadata": {},
   "outputs": [
    {
     "data": {
      "text/plain": [
       "'1-800-PAINTER'"
      ]
     },
     "execution_count": 2,
     "metadata": {},
     "output_type": "execute_result"
    }
   ],
   "source": [
    "input = '1-800-724-6837'\n",
    "\n",
    "NtoW.number_to_words(input)"
   ]
  },
  {
   "cell_type": "code",
   "execution_count": 3,
   "metadata": {},
   "outputs": [
    {
     "data": {
      "text/plain": [
       "'1-800-724-6837'"
      ]
     },
     "execution_count": 3,
     "metadata": {},
     "output_type": "execute_result"
    }
   ],
   "source": [
    "input = '1-800-PAINTER'\n",
    "\n",
    "WtoN.words_to_numbers(input)"
   ]
  },
  {
   "cell_type": "code",
   "execution_count": 4,
   "metadata": {},
   "outputs": [
    {
     "name": "stdout",
     "output_type": "stream",
     "text": [
      "1-800-724OVER\n",
      "1-800-72HOVER\n",
      "1-800-PAINTER\n",
      "1-800-72INTER\n",
      "1-800-PAINT37\n",
      "1-800-PAIN837\n",
      "1-800-RAG-6837\n",
      "1-800-RAIN837\n",
      "1-800-SAG-6837\n",
      "1-800-SAINT37\n"
     ]
    }
   ],
   "source": [
    "input = '1-800-724-6837'\n",
    "\n",
    "AW.all_wordifications(input)"
   ]
  },
  {
   "cell_type": "code",
   "execution_count": null,
   "metadata": {},
   "outputs": [],
   "source": []
  }
 ],
 "metadata": {
  "kernelspec": {
   "display_name": "Python 3",
   "language": "python",
   "name": "python3"
  },
  "language_info": {
   "codemirror_mode": {
    "name": "ipython",
    "version": 3
   },
   "file_extension": ".py",
   "mimetype": "text/x-python",
   "name": "python",
   "nbconvert_exporter": "python",
   "pygments_lexer": "ipython3",
   "version": "3.7.3"
  }
 },
 "nbformat": 4,
 "nbformat_minor": 2
}
